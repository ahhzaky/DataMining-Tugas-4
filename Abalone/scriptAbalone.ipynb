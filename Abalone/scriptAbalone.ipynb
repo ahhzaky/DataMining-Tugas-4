{
 "metadata": {
  "language_info": {
   "codemirror_mode": {
    "name": "ipython",
    "version": 3
   },
   "file_extension": ".py",
   "mimetype": "text/x-python",
   "name": "python",
   "nbconvert_exporter": "python",
   "pygments_lexer": "ipython3",
   "version": "3.8.3-final"
  },
  "orig_nbformat": 2,
  "kernelspec": {
   "name": "Python 3.8.3 32-bit",
   "display_name": "Python 3.8.3 32-bit",
   "metadata": {
    "interpreter": {
     "hash": "ca585555a2867b459a38eaf8b2b47956aef7a6f770e52f1f5dfa1f8f05e57688"
    }
   }
  }
 },
 "nbformat": 4,
 "nbformat_minor": 2,
 "cells": [
  {
   "source": [
    "import numpy as np\n",
    "# function untuk mencetak file arff\n",
    "def pandas2arff(df,filename,wekaname = \"pandasdata\",cleanstringdata=True,cleannan=True):\n",
    "    \"\"\"\n",
    "    converts the pandas dataframe to a weka compatible file\n",
    "    df: dataframe in pandas format\n",
    "    filename: the filename you want the weka compatible file to be in\n",
    "    wekaname: the name you want to give to the weka dataset (this will be visible to you when you open it in Weka)\n",
    "    cleanstringdata: clean up data which may have spaces and replace with \"_\", special characters etc which seem to annoy Weka. \n",
    "                     To suppress this, set this to False\n",
    "    cleannan: replaces all nan values with \"?\" which is Weka's standard for missing values. \n",
    "              To suppress this, set this to False\n",
    "    \"\"\"\n",
    "    import re\n",
    "    \n",
    "    def cleanstring(s):\n",
    "        if s!=\"?\":\n",
    "            return re.sub('[^A-Za-z0-9]+', \"_\", str(s))\n",
    "        else:\n",
    "            return \"?\"\n",
    "            \n",
    "    dfcopy = df #all cleaning operations get done on this copy\n",
    "\n",
    "    \n",
    "    if cleannan!=False:\n",
    "        dfcopy = dfcopy.fillna(-999999999) #this is so that we can swap this out for \"?\"\n",
    "        #this makes sure that certain numerical columns with missing values don't get stuck with \"object\" type\n",
    " \n",
    "    f = open(filename,\"w\")\n",
    "    arffList = []\n",
    "    arffList.append(\"@relation \" + wekaname + \"\\n\\n\")\n",
    "    #look at each column's dtype. If it's an \"object\", make it \"nominal\" under Weka for now (can be changed in source for dates.. etc)\n",
    "    for i in range(df.shape[1]):\n",
    "        if dfcopy.dtypes[i]=='O' or (df.columns[i] in [\"Class\",\"CLASS\",\"class\"]):\n",
    "            if cleannan!=False:\n",
    "                dfcopy.iloc[:,i] = dfcopy.iloc[:,i].replace(to_replace=-999999999, value=\"?\")\n",
    "            if cleanstringdata!=False:\n",
    "                dfcopy.iloc[:,i] = dfcopy.iloc[:,i].apply(cleanstring)\n",
    "            _uniqueNominalVals = [str(_i) for _i in np.unique(dfcopy.iloc[:,i])]\n",
    "            _uniqueNominalVals = \",\".join(_uniqueNominalVals)\n",
    "            _uniqueNominalVals = _uniqueNominalVals.replace(\"[\",\"\")\n",
    "            _uniqueNominalVals = _uniqueNominalVals.replace(\"]\",\"\")\n",
    "            _uniqueValuesString = \"{\" + _uniqueNominalVals +\"}\" \n",
    "            arffList.append(\"@attribute \" + df.columns[i] + _uniqueValuesString + \"\\n\")\n",
    "        else:\n",
    "            arffList.append(\"@attribute \" + df.columns[i] + \" numeric\\n\") \n",
    "            #even if it is an integer, let's just deal with it as a real number for now\n",
    "    arffList.append(\"\\n@data\\n\")           \n",
    "    for i in range(dfcopy.shape[0]):#instances\n",
    "        _instanceString = \"\"\n",
    "        for j in range(df.shape[1]):#features\n",
    "                if dfcopy.dtypes[j]=='O':\n",
    "                    _instanceString+=\"\\\"\" + str(dfcopy.iloc[i,j]) + \"\\\"\"\n",
    "                else:\n",
    "                    _instanceString+=str(dfcopy.iloc[i,j])\n",
    "                if j!=dfcopy.shape[1]-1:#if it's not the last feature, add a comma\n",
    "                    _instanceString+=\",\"\n",
    "        _instanceString+=\"\\n\"\n",
    "        if cleannan!=False:\n",
    "            _instanceString = _instanceString.replace(\"-999999999.0\",\"?\") #for numeric missing values\n",
    "            _instanceString = _instanceString.replace(\"\\\"?\\\"\",\"?\") #for categorical missing values\n",
    "        arffList.append(_instanceString)\n",
    "    f.writelines(arffList)\n",
    "    f.close()\n",
    "    del dfcopy\n",
    "    return True"
   ],
   "cell_type": "code",
   "metadata": {},
   "execution_count": 1,
   "outputs": []
  },
  {
   "cell_type": "code",
   "execution_count": 2,
   "metadata": {},
   "outputs": [
    {
     "output_type": "execute_result",
     "data": {
      "text/plain": [
       "      Diameter  Rings  Height  Length  ShellWeight  ShuckedWeight  \\\n",
       "0        0.350  0.265   0.090  0.2255       0.0995         0.0485   \n",
       "1        0.530  0.420   0.135  0.6770       0.2565         0.1415   \n",
       "2        0.440  0.365   0.125  0.5160       0.2155         0.1140   \n",
       "3        0.330  0.255   0.080  0.2050       0.0895         0.0395   \n",
       "4        0.425  0.300   0.095  0.3515       0.1410         0.0775   \n",
       "...        ...    ...     ...     ...          ...            ...   \n",
       "4171     0.565  0.450   0.165  0.8870       0.3700         0.2390   \n",
       "4172     0.590  0.440   0.135  0.9660       0.4390         0.2145   \n",
       "4173     0.600  0.475   0.205  1.1760       0.5255         0.2875   \n",
       "4174     0.625  0.485   0.150  1.0945       0.5310         0.2610   \n",
       "4175     0.710  0.555   0.195  1.9485       0.9455         0.3765   \n",
       "\n",
       "      WholeWeight  VisceraWeight JenisKelamin  \n",
       "0          0.0700            7.0            M  \n",
       "1          0.2100            9.0            F  \n",
       "2          0.1550           10.0            M  \n",
       "3          0.0550            7.0            I  \n",
       "4          0.1200            8.0            I  \n",
       "...           ...            ...          ...  \n",
       "4171       0.2490           11.0            F  \n",
       "4172       0.2605           10.0            M  \n",
       "4173       0.3080            9.0            M  \n",
       "4174       0.2960           10.0            F  \n",
       "4175       0.4950           12.0            M  \n",
       "\n",
       "[4176 rows x 9 columns]"
      ],
      "text/html": "<div>\n<style scoped>\n    .dataframe tbody tr th:only-of-type {\n        vertical-align: middle;\n    }\n\n    .dataframe tbody tr th {\n        vertical-align: top;\n    }\n\n    .dataframe thead th {\n        text-align: right;\n    }\n</style>\n<table border=\"1\" class=\"dataframe\">\n  <thead>\n    <tr style=\"text-align: right;\">\n      <th></th>\n      <th>Diameter</th>\n      <th>Rings</th>\n      <th>Height</th>\n      <th>Length</th>\n      <th>ShellWeight</th>\n      <th>ShuckedWeight</th>\n      <th>WholeWeight</th>\n      <th>VisceraWeight</th>\n      <th>JenisKelamin</th>\n    </tr>\n  </thead>\n  <tbody>\n    <tr>\n      <th>0</th>\n      <td>0.350</td>\n      <td>0.265</td>\n      <td>0.090</td>\n      <td>0.2255</td>\n      <td>0.0995</td>\n      <td>0.0485</td>\n      <td>0.0700</td>\n      <td>7.0</td>\n      <td>M</td>\n    </tr>\n    <tr>\n      <th>1</th>\n      <td>0.530</td>\n      <td>0.420</td>\n      <td>0.135</td>\n      <td>0.6770</td>\n      <td>0.2565</td>\n      <td>0.1415</td>\n      <td>0.2100</td>\n      <td>9.0</td>\n      <td>F</td>\n    </tr>\n    <tr>\n      <th>2</th>\n      <td>0.440</td>\n      <td>0.365</td>\n      <td>0.125</td>\n      <td>0.5160</td>\n      <td>0.2155</td>\n      <td>0.1140</td>\n      <td>0.1550</td>\n      <td>10.0</td>\n      <td>M</td>\n    </tr>\n    <tr>\n      <th>3</th>\n      <td>0.330</td>\n      <td>0.255</td>\n      <td>0.080</td>\n      <td>0.2050</td>\n      <td>0.0895</td>\n      <td>0.0395</td>\n      <td>0.0550</td>\n      <td>7.0</td>\n      <td>I</td>\n    </tr>\n    <tr>\n      <th>4</th>\n      <td>0.425</td>\n      <td>0.300</td>\n      <td>0.095</td>\n      <td>0.3515</td>\n      <td>0.1410</td>\n      <td>0.0775</td>\n      <td>0.1200</td>\n      <td>8.0</td>\n      <td>I</td>\n    </tr>\n    <tr>\n      <th>...</th>\n      <td>...</td>\n      <td>...</td>\n      <td>...</td>\n      <td>...</td>\n      <td>...</td>\n      <td>...</td>\n      <td>...</td>\n      <td>...</td>\n      <td>...</td>\n    </tr>\n    <tr>\n      <th>4171</th>\n      <td>0.565</td>\n      <td>0.450</td>\n      <td>0.165</td>\n      <td>0.8870</td>\n      <td>0.3700</td>\n      <td>0.2390</td>\n      <td>0.2490</td>\n      <td>11.0</td>\n      <td>F</td>\n    </tr>\n    <tr>\n      <th>4172</th>\n      <td>0.590</td>\n      <td>0.440</td>\n      <td>0.135</td>\n      <td>0.9660</td>\n      <td>0.4390</td>\n      <td>0.2145</td>\n      <td>0.2605</td>\n      <td>10.0</td>\n      <td>M</td>\n    </tr>\n    <tr>\n      <th>4173</th>\n      <td>0.600</td>\n      <td>0.475</td>\n      <td>0.205</td>\n      <td>1.1760</td>\n      <td>0.5255</td>\n      <td>0.2875</td>\n      <td>0.3080</td>\n      <td>9.0</td>\n      <td>M</td>\n    </tr>\n    <tr>\n      <th>4174</th>\n      <td>0.625</td>\n      <td>0.485</td>\n      <td>0.150</td>\n      <td>1.0945</td>\n      <td>0.5310</td>\n      <td>0.2610</td>\n      <td>0.2960</td>\n      <td>10.0</td>\n      <td>F</td>\n    </tr>\n    <tr>\n      <th>4175</th>\n      <td>0.710</td>\n      <td>0.555</td>\n      <td>0.195</td>\n      <td>1.9485</td>\n      <td>0.9455</td>\n      <td>0.3765</td>\n      <td>0.4950</td>\n      <td>12.0</td>\n      <td>M</td>\n    </tr>\n  </tbody>\n</table>\n<p>4176 rows × 9 columns</p>\n</div>"
     },
     "metadata": {},
     "execution_count": 2
    }
   ],
   "source": [
    "import pandas as pd\n",
    "from scipy.io.arff import loadarff \n",
    "\n",
    "# read file to dataframe\n",
    "raw_data = loadarff(open('DataAbalone.arff','r'))\n",
    "df_data = pd.DataFrame(raw_data[0])\n",
    "# membersihkan data rusak pada JenisKelamin\n",
    "df_data['JenisKelamin'] = df_data['JenisKelamin'].str.decode('utf-8') \n",
    "\n",
    "df_data"
   ]
  },
  {
   "cell_type": "code",
   "execution_count": 3,
   "metadata": {},
   "outputs": [
    {
     "output_type": "execute_result",
     "data": {
      "text/plain": [
       "      Diameter  Rings  Height  Length  ShellWeight  ShuckedWeight  \\\n",
       "3090     0.495  0.380   0.120  0.4740       0.1970         0.1065   \n",
       "1653     0.595  0.460   0.150  0.8335       0.3770         0.1925   \n",
       "4161     0.385  0.255   0.100  0.3175       0.1370         0.0680   \n",
       "1918     0.605  0.490   0.165  1.0710       0.4820         0.1935   \n",
       "3604     0.495  0.375   0.115  0.5755       0.3100         0.1145   \n",
       "...        ...    ...     ...     ...          ...            ...   \n",
       "1314     0.550  0.425   0.135  0.7305       0.3325         0.1545   \n",
       "531      0.470  0.370   0.120  0.4705       0.1845         0.1055   \n",
       "2767     0.560  0.435   0.135  0.7200       0.3290         0.1030   \n",
       "2008     0.430  0.320   0.110  0.3675       0.1675         0.1020   \n",
       "2198     0.680  0.550   0.200  1.5960       0.5250         0.4075   \n",
       "\n",
       "      WholeWeight  VisceraWeight JenisKelamin  \n",
       "3090       0.1545           10.0            M  \n",
       "1653       0.2350            8.0            I  \n",
       "4161       0.0920            8.0            M  \n",
       "1918       0.3520           10.0            I  \n",
       "3604       0.1395            8.0            I  \n",
       "...           ...            ...          ...  \n",
       "1314       0.2150            9.0            I  \n",
       "531        0.1550           12.0            I  \n",
       "2767       0.2510           11.0            I  \n",
       "2008       0.1050            8.0            I  \n",
       "2198       0.5850           21.0            F  \n",
       "\n",
       "[3342 rows x 9 columns]"
      ],
      "text/html": "<div>\n<style scoped>\n    .dataframe tbody tr th:only-of-type {\n        vertical-align: middle;\n    }\n\n    .dataframe tbody tr th {\n        vertical-align: top;\n    }\n\n    .dataframe thead th {\n        text-align: right;\n    }\n</style>\n<table border=\"1\" class=\"dataframe\">\n  <thead>\n    <tr style=\"text-align: right;\">\n      <th></th>\n      <th>Diameter</th>\n      <th>Rings</th>\n      <th>Height</th>\n      <th>Length</th>\n      <th>ShellWeight</th>\n      <th>ShuckedWeight</th>\n      <th>WholeWeight</th>\n      <th>VisceraWeight</th>\n      <th>JenisKelamin</th>\n    </tr>\n  </thead>\n  <tbody>\n    <tr>\n      <th>3090</th>\n      <td>0.495</td>\n      <td>0.380</td>\n      <td>0.120</td>\n      <td>0.4740</td>\n      <td>0.1970</td>\n      <td>0.1065</td>\n      <td>0.1545</td>\n      <td>10.0</td>\n      <td>M</td>\n    </tr>\n    <tr>\n      <th>1653</th>\n      <td>0.595</td>\n      <td>0.460</td>\n      <td>0.150</td>\n      <td>0.8335</td>\n      <td>0.3770</td>\n      <td>0.1925</td>\n      <td>0.2350</td>\n      <td>8.0</td>\n      <td>I</td>\n    </tr>\n    <tr>\n      <th>4161</th>\n      <td>0.385</td>\n      <td>0.255</td>\n      <td>0.100</td>\n      <td>0.3175</td>\n      <td>0.1370</td>\n      <td>0.0680</td>\n      <td>0.0920</td>\n      <td>8.0</td>\n      <td>M</td>\n    </tr>\n    <tr>\n      <th>1918</th>\n      <td>0.605</td>\n      <td>0.490</td>\n      <td>0.165</td>\n      <td>1.0710</td>\n      <td>0.4820</td>\n      <td>0.1935</td>\n      <td>0.3520</td>\n      <td>10.0</td>\n      <td>I</td>\n    </tr>\n    <tr>\n      <th>3604</th>\n      <td>0.495</td>\n      <td>0.375</td>\n      <td>0.115</td>\n      <td>0.5755</td>\n      <td>0.3100</td>\n      <td>0.1145</td>\n      <td>0.1395</td>\n      <td>8.0</td>\n      <td>I</td>\n    </tr>\n    <tr>\n      <th>...</th>\n      <td>...</td>\n      <td>...</td>\n      <td>...</td>\n      <td>...</td>\n      <td>...</td>\n      <td>...</td>\n      <td>...</td>\n      <td>...</td>\n      <td>...</td>\n    </tr>\n    <tr>\n      <th>1314</th>\n      <td>0.550</td>\n      <td>0.425</td>\n      <td>0.135</td>\n      <td>0.7305</td>\n      <td>0.3325</td>\n      <td>0.1545</td>\n      <td>0.2150</td>\n      <td>9.0</td>\n      <td>I</td>\n    </tr>\n    <tr>\n      <th>531</th>\n      <td>0.470</td>\n      <td>0.370</td>\n      <td>0.120</td>\n      <td>0.4705</td>\n      <td>0.1845</td>\n      <td>0.1055</td>\n      <td>0.1550</td>\n      <td>12.0</td>\n      <td>I</td>\n    </tr>\n    <tr>\n      <th>2767</th>\n      <td>0.560</td>\n      <td>0.435</td>\n      <td>0.135</td>\n      <td>0.7200</td>\n      <td>0.3290</td>\n      <td>0.1030</td>\n      <td>0.2510</td>\n      <td>11.0</td>\n      <td>I</td>\n    </tr>\n    <tr>\n      <th>2008</th>\n      <td>0.430</td>\n      <td>0.320</td>\n      <td>0.110</td>\n      <td>0.3675</td>\n      <td>0.1675</td>\n      <td>0.1020</td>\n      <td>0.1050</td>\n      <td>8.0</td>\n      <td>I</td>\n    </tr>\n    <tr>\n      <th>2198</th>\n      <td>0.680</td>\n      <td>0.550</td>\n      <td>0.200</td>\n      <td>1.5960</td>\n      <td>0.5250</td>\n      <td>0.4075</td>\n      <td>0.5850</td>\n      <td>21.0</td>\n      <td>F</td>\n    </tr>\n  </tbody>\n</table>\n<p>3342 rows × 9 columns</p>\n</div>"
     },
     "metadata": {},
     "execution_count": 3
    }
   ],
   "source": [
    "# acak sample training sebasar 80%\n",
    "df_training = df_data.sample(n = 3342)\n",
    "df_training "
   ]
  },
  {
   "cell_type": "code",
   "execution_count": 4,
   "metadata": {},
   "outputs": [
    {
     "output_type": "execute_result",
     "data": {
      "text/plain": [
       "      Diameter  Rings  Height  Length  ShellWeight  ShuckedWeight  \\\n",
       "2819     0.375  0.285   0.090  0.2545       0.1190         0.0595   \n",
       "1588     0.520  0.410   0.145  0.6460       0.2965         0.1595   \n",
       "467      0.680  0.550   0.210  1.7445       0.5975         0.3050   \n",
       "2847     0.625  0.485   0.160  1.2540       0.5910         0.2590   \n",
       "2467     0.370  0.275   0.080  0.2270       0.0930         0.0625   \n",
       "...        ...    ...     ...     ...          ...            ...   \n",
       "137      0.405  0.325   0.110  0.3555       0.1510         0.0630   \n",
       "2990     0.595  0.485   0.150  1.0835       0.5305         0.2310   \n",
       "1378     0.620  0.475   0.160  1.1295       0.4630         0.2685   \n",
       "3944     0.235  0.175   0.065  0.0615       0.0205         0.0200   \n",
       "3757     0.525  0.400   0.140  0.6055       0.2605         0.1080   \n",
       "\n",
       "      WholeWeight  VisceraWeight JenisKelamin  \n",
       "2819       0.0675            6.0            I  \n",
       "1588       0.1650            9.0            I  \n",
       "467        0.6250           17.0            F  \n",
       "2847       0.3485            9.0            F  \n",
       "2467       0.0700            8.0            F  \n",
       "...           ...            ...          ...  \n",
       "137        0.1170            9.0            F  \n",
       "2990       0.2760            8.0            M  \n",
       "1378       0.3300           10.0            F  \n",
       "3944       0.0190            6.0            I  \n",
       "3757       0.2100            9.0            I  \n",
       "\n",
       "[835 rows x 9 columns]"
      ],
      "text/html": "<div>\n<style scoped>\n    .dataframe tbody tr th:only-of-type {\n        vertical-align: middle;\n    }\n\n    .dataframe tbody tr th {\n        vertical-align: top;\n    }\n\n    .dataframe thead th {\n        text-align: right;\n    }\n</style>\n<table border=\"1\" class=\"dataframe\">\n  <thead>\n    <tr style=\"text-align: right;\">\n      <th></th>\n      <th>Diameter</th>\n      <th>Rings</th>\n      <th>Height</th>\n      <th>Length</th>\n      <th>ShellWeight</th>\n      <th>ShuckedWeight</th>\n      <th>WholeWeight</th>\n      <th>VisceraWeight</th>\n      <th>JenisKelamin</th>\n    </tr>\n  </thead>\n  <tbody>\n    <tr>\n      <th>2819</th>\n      <td>0.375</td>\n      <td>0.285</td>\n      <td>0.090</td>\n      <td>0.2545</td>\n      <td>0.1190</td>\n      <td>0.0595</td>\n      <td>0.0675</td>\n      <td>6.0</td>\n      <td>I</td>\n    </tr>\n    <tr>\n      <th>1588</th>\n      <td>0.520</td>\n      <td>0.410</td>\n      <td>0.145</td>\n      <td>0.6460</td>\n      <td>0.2965</td>\n      <td>0.1595</td>\n      <td>0.1650</td>\n      <td>9.0</td>\n      <td>I</td>\n    </tr>\n    <tr>\n      <th>467</th>\n      <td>0.680</td>\n      <td>0.550</td>\n      <td>0.210</td>\n      <td>1.7445</td>\n      <td>0.5975</td>\n      <td>0.3050</td>\n      <td>0.6250</td>\n      <td>17.0</td>\n      <td>F</td>\n    </tr>\n    <tr>\n      <th>2847</th>\n      <td>0.625</td>\n      <td>0.485</td>\n      <td>0.160</td>\n      <td>1.2540</td>\n      <td>0.5910</td>\n      <td>0.2590</td>\n      <td>0.3485</td>\n      <td>9.0</td>\n      <td>F</td>\n    </tr>\n    <tr>\n      <th>2467</th>\n      <td>0.370</td>\n      <td>0.275</td>\n      <td>0.080</td>\n      <td>0.2270</td>\n      <td>0.0930</td>\n      <td>0.0625</td>\n      <td>0.0700</td>\n      <td>8.0</td>\n      <td>F</td>\n    </tr>\n    <tr>\n      <th>...</th>\n      <td>...</td>\n      <td>...</td>\n      <td>...</td>\n      <td>...</td>\n      <td>...</td>\n      <td>...</td>\n      <td>...</td>\n      <td>...</td>\n      <td>...</td>\n    </tr>\n    <tr>\n      <th>137</th>\n      <td>0.405</td>\n      <td>0.325</td>\n      <td>0.110</td>\n      <td>0.3555</td>\n      <td>0.1510</td>\n      <td>0.0630</td>\n      <td>0.1170</td>\n      <td>9.0</td>\n      <td>F</td>\n    </tr>\n    <tr>\n      <th>2990</th>\n      <td>0.595</td>\n      <td>0.485</td>\n      <td>0.150</td>\n      <td>1.0835</td>\n      <td>0.5305</td>\n      <td>0.2310</td>\n      <td>0.2760</td>\n      <td>8.0</td>\n      <td>M</td>\n    </tr>\n    <tr>\n      <th>1378</th>\n      <td>0.620</td>\n      <td>0.475</td>\n      <td>0.160</td>\n      <td>1.1295</td>\n      <td>0.4630</td>\n      <td>0.2685</td>\n      <td>0.3300</td>\n      <td>10.0</td>\n      <td>F</td>\n    </tr>\n    <tr>\n      <th>3944</th>\n      <td>0.235</td>\n      <td>0.175</td>\n      <td>0.065</td>\n      <td>0.0615</td>\n      <td>0.0205</td>\n      <td>0.0200</td>\n      <td>0.0190</td>\n      <td>6.0</td>\n      <td>I</td>\n    </tr>\n    <tr>\n      <th>3757</th>\n      <td>0.525</td>\n      <td>0.400</td>\n      <td>0.140</td>\n      <td>0.6055</td>\n      <td>0.2605</td>\n      <td>0.1080</td>\n      <td>0.2100</td>\n      <td>9.0</td>\n      <td>I</td>\n    </tr>\n  </tbody>\n</table>\n<p>835 rows × 9 columns</p>\n</div>"
     },
     "metadata": {},
     "execution_count": 4
    }
   ],
   "source": [
    "# acak sample testing sebasar 20%\n",
    "df_testing = df_data.sample(n = 835)\n",
    "df_testing"
   ]
  },
  {
   "cell_type": "code",
   "execution_count": 5,
   "metadata": {},
   "outputs": [
    {
     "output_type": "execute_result",
     "data": {
      "text/plain": [
       "True"
      ]
     },
     "metadata": {},
     "execution_count": 5
    }
   ],
   "source": [
    "pandas2arff(df_training, \"Abalone-training.arff\", wekaname=\"Abalone-training\", cleanstringdata=True, cleannan=True)\n",
    "pandas2arff(df_testing, \"Abalone-testing.arff\", wekaname=\"Abalone-testing\", cleanstringdata=True, cleannan=True)"
   ]
  }
 ]
}